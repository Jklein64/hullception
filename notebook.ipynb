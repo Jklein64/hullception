{
 "cells": [
  {
   "cell_type": "markdown",
   "source": [
    "# Hullception: Image Decomposition with Many Convex Hulls"
   ],
   "metadata": {}
  },
  {
   "cell_type": "code",
   "execution_count": null,
   "source": [
    "# import deps\n",
    "import PIL.Image\n",
    "import scipy.cluster\n",
    "import scipy.spatial\n",
    "import numpy as np"
   ],
   "outputs": [],
   "metadata": {}
  },
  {
   "cell_type": "code",
   "execution_count": null,
   "source": [
    "# open image and save into `points`\n",
    "with PIL.Image.open(\"turquoise.png\") as image:\n",
    "    points = np.array(image)/255  # [0, 255] -> [0, 1]\n",
    "    w, h = points.shape[:2]\n",
    "    points = points.reshape((w*h, 3)) # [x][y][rgb] -> [i][rgb]\n",
    "    # remove colors made identical with above dimension drop\n",
    "    points = np.unique(points, axis=0)"
   ],
   "outputs": [],
   "metadata": {}
  },
  {
   "cell_type": "markdown",
   "source": [
    "# Yotam's proposed algorithm\n",
    "Given a set of $N$ points $p_i$ and an outlier percentage $\\lambda$, run k-means with $k = \\frac N {100 - \\lambda}$, and then compute the convex hull $k$ times, leaving out one cluster each time. Return the smallest convex hull."
   ],
   "metadata": {}
  },
  {
   "cell_type": "code",
   "execution_count": null,
   "source": [
    "λ = 5\n",
    "N = points.shape[0] # not w*h since duplicates were removed\n",
    "K = int(N / (100 - λ))\n",
    "K=50\n",
    "print(f\"K = {K}\")"
   ],
   "outputs": [],
   "metadata": {}
  },
  {
   "cell_type": "code",
   "execution_count": null,
   "source": [
    "from IPython.display import clear_output\n",
    "# create clusters using k-means\n",
    "clusters = scipy.cluster.vq.kmeans2(points, K)\n",
    "centroids, labels = clusters\n",
    "# hide warning if a cluster was empty\n",
    "clear_output(wait=True)\n",
    "print(f\"centroids: {centroids.shape}\")\n",
    "print(f\"labels: {labels.shape}\")"
   ],
   "outputs": [],
   "metadata": {}
  },
  {
   "cell_type": "code",
   "execution_count": null,
   "source": [
    "# create every hull that excludes exactly one cluster\n",
    "hulls = list()\n",
    "for label in range(K):\n",
    "    # exclude the current label (a cluster)\n",
    "    mask = np.where(labels != label)\n",
    "    included = points[mask]\n",
    "    # create convex hull\n",
    "    hull = scipy.spatial.ConvexHull(included)\n",
    "    hulls.append((hull, label))"
   ],
   "outputs": [],
   "metadata": {}
  },
  {
   "cell_type": "code",
   "execution_count": null,
   "source": [
    "# find the hull that has the smallest volume\n",
    "smallest_hull, label = min(hulls, key=lambda hull: hull[0].volume)\n",
    "starting_hull = scipy.spatial.ConvexHull(points)\n",
    "print(f\"volume reduced by {(starting_hull.volume - smallest_hull.volume) / starting_hull.volume * 100:.2f}%\")\n",
    "# `.points` is taken straight from the input\n",
    "print(f\"excluded {len(starting_hull.points) - len(smallest_hull.points)} points\")"
   ],
   "outputs": [],
   "metadata": {}
  },
  {
   "cell_type": "markdown",
   "source": [
    "## Results\n",
    "\n",
    "Below is a comparison of the output convex hull made using just `points` and the output convex hull made by finding one of $k$ clusters whose removal minimizes the volume of the hull."
   ],
   "metadata": {}
  },
  {
   "cell_type": "code",
   "execution_count": null,
   "source": [
    "import matplotlib.pyplot as plot"
   ],
   "outputs": [],
   "metadata": {}
  },
  {
   "cell_type": "code",
   "execution_count": null,
   "source": [
    "def prep(axes):\n",
    "    axes.set_xlabel(\"x\")\n",
    "    axes.set_xlim3d(0, 1)\n",
    "    axes.set_ylabel(\"y\")\n",
    "    axes.set_ylim3d(0, 1)\n",
    "    axes.set_zlabel(\"z\")\n",
    "    axes.set_zlim3d(0, 1)"
   ],
   "outputs": [],
   "metadata": {}
  },
  {
   "cell_type": "markdown",
   "source": [
    "### Results: No Manipulation"
   ],
   "metadata": {}
  },
  {
   "cell_type": "code",
   "execution_count": null,
   "source": [
    "%matplotlib inline\n",
    "figure = plot.figure()\n",
    "axes = figure.add_subplot(111, projection=\"3d\")\n",
    "axes.scatter(\n",
    "    points.T[0], \n",
    "    points.T[1], \n",
    "    points.T[2], \n",
    "    c=np.array([labels/(K-1)]*3).T,\n",
    "    s=1)\n",
    "\n",
    "for simplex in starting_hull.simplices:\n",
    "    simplex = np.append(simplex, simplex[0])\n",
    "    axes.plot(\n",
    "        points[simplex, 0], \n",
    "        points[simplex, 1], \n",
    "        points[simplex, 2],\n",
    "        \"r-\")\n",
    "    \n",
    "prep(axes)\n",
    "\n",
    "plot.savefig(\"out/before.png\", transparent=False, dpi=300)\n",
    "plot.show()"
   ],
   "outputs": [],
   "metadata": {}
  },
  {
   "cell_type": "markdown",
   "source": [
    "### Results: With Manipulation"
   ],
   "metadata": {}
  },
  {
   "cell_type": "code",
   "execution_count": null,
   "source": [
    "%matplotlib inline\n",
    "figure = plot.figure()\n",
    "axes = figure.add_subplot(111, projection=\"3d\")\n",
    "mask = np.where(labels != label)\n",
    "axes.scatter(\n",
    "    points[mask].T[0], \n",
    "    points[mask].T[1], \n",
    "    points[mask].T[2], \n",
    "    c=np.array([labels[mask]/(K-1)]*3).T,\n",
    "    s=1)\n",
    "\n",
    "for simplex in smallest_hull.simplices:\n",
    "    simplex = np.append(simplex, simplex[0])\n",
    "    axes.plot(\n",
    "        points[mask][simplex, 0], \n",
    "        points[mask][simplex, 1], \n",
    "        points[mask][simplex, 2],\n",
    "        \"r-\")\n",
    "    \n",
    "prep(axes)\n",
    "\n",
    "plot.savefig(\"out/after.png\", transparent=False, dpi=300)\n",
    "plot.show()"
   ],
   "outputs": [],
   "metadata": {}
  },
  {
   "cell_type": "code",
   "execution_count": null,
   "source": [
    "%matplotlib inline\n",
    "# indices = np.arange(points.shape[0]); masked = set(mask[0])\n",
    "# inverted_mask = np.fromiter((i for i in indices if i not in masked), dtype=np.uint)\n",
    "excluded = points[labels == label]\n",
    "\n",
    "figure = plot.figure()\n",
    "axes = figure.add_subplot(111, projection=\"3d\")\n",
    "axes.scatter(\n",
    "    excluded.T[0], \n",
    "    excluded.T[1], \n",
    "    excluded.T[2], \n",
    "    c=np.array([labels[labels == label]/(K-1)]*3).T,\n",
    "    s=1)\n",
    "\n",
    "prep(axes)\n",
    "\n",
    "plot.savefig(\"out/excluded.png\", transparent=False, dpi=300)\n",
    "plot.show()"
   ],
   "outputs": [],
   "metadata": {}
  }
 ],
 "metadata": {
  "interpreter": {
   "hash": "84a4315f082abb99ff2bf82b87a55295886a6f522fab22317c77bc182dbb89f2"
  },
  "kernelspec": {
   "display_name": "Python 3.8.5 64-bit ('venv': venv)",
   "name": "python3"
  },
  "language_info": {
   "name": "python",
   "version": ""
  },
  "orig_nbformat": 4
 },
 "nbformat": 4,
 "nbformat_minor": 2
}